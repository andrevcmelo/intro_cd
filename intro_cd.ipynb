{
  "nbformat": 4,
  "nbformat_minor": 0,
  "metadata": {
    "colab": {
      "name": "intro_cd.ipynb",
      "provenance": [],
      "collapsed_sections": [
        "9UbmQn6_2Q3z"
      ],
      "include_colab_link": true
    },
    "kernelspec": {
      "name": "python3",
      "display_name": "Python 3"
    }
  },
  "cells": [
    {
      "cell_type": "markdown",
      "metadata": {
        "id": "view-in-github",
        "colab_type": "text"
      },
      "source": [
        "<a href=\"https://colab.research.google.com/github/andrevcmelo/intro_cd/blob/master/intro_cd.ipynb\" target=\"_parent\"><img src=\"https://colab.research.google.com/assets/colab-badge.svg\" alt=\"Open In Colab\"/></a>"
      ]
    },
    {
      "cell_type": "markdown",
      "metadata": {
        "id": "4Wo3Gtwg3nEF",
        "colab_type": "text"
      },
      "source": [
        "Link base de dados: https://raw.githubusercontent.com/andrevcmelo/intro_cd/master/transito-2016.csv"
      ]
    },
    {
      "cell_type": "markdown",
      "metadata": {
        "id": "9UbmQn6_2Q3z",
        "colab_type": "text"
      },
      "source": [
        "# **1. Coletar Dados**"
      ]
    },
    {
      "cell_type": "markdown",
      "metadata": {
        "id": "T0nUTl7j7OaF",
        "colab_type": "text"
      },
      "source": [
        "**Importação de bibliotecas e base de dados**"
      ]
    },
    {
      "cell_type": "code",
      "metadata": {
        "id": "1V7NOk-UkvfH",
        "colab_type": "code",
        "colab": {}
      },
      "source": [
        "import numpy as np\n",
        "import pandas as pd"
      ],
      "execution_count": 0,
      "outputs": []
    },
    {
      "cell_type": "code",
      "metadata": {
        "id": "a59NGhZf6C-Y",
        "colab_type": "code",
        "colab": {}
      },
      "source": [
        "chamadosCTTU=pd.read_csv(\"https://raw.githubusercontent.com/andrevcmelo/intro_cd/master/transito-2016.csv\",sep=';', quotechar='\"', decimal=\",\")"
      ],
      "execution_count": 0,
      "outputs": []
    },
    {
      "cell_type": "markdown",
      "metadata": {
        "id": "J07ztOra2Z2A",
        "colab_type": "text"
      },
      "source": [
        "# **2. Realizar pré-processamento dos dados**"
      ]
    },
    {
      "cell_type": "markdown",
      "metadata": {
        "id": "DKvca7b97BAd",
        "colab_type": "text"
      },
      "source": [
        "**Validar importação do arquivo base \"Chamados Atendidos pela CTTU em 2016\"**"
      ]
    },
    {
      "cell_type": "code",
      "metadata": {
        "id": "-9unnw8N6cHP",
        "colab_type": "code",
        "colab": {}
      },
      "source": [
        "print(chamadosCTTU.head())"
      ],
      "execution_count": 0,
      "outputs": []
    },
    {
      "cell_type": "code",
      "metadata": {
        "id": "1ttzoQYG8L97",
        "colab_type": "code",
        "colab": {}
      },
      "source": [
        "chamadosCTTU.shape"
      ],
      "execution_count": 0,
      "outputs": []
    },
    {
      "cell_type": "markdown",
      "metadata": {
        "id": "oJD954R3_TB7",
        "colab_type": "text"
      },
      "source": [
        "**Definindo campos categóricos**"
      ]
    },
    {
      "cell_type": "code",
      "metadata": {
        "id": "yr1c-KPq_ZJy",
        "colab_type": "code",
        "colab": {}
      },
      "source": [
        "chamadosCTTU.dtypes"
      ],
      "execution_count": 0,
      "outputs": []
    },
    {
      "cell_type": "code",
      "metadata": {
        "id": "yDl0naA8AiuW",
        "colab_type": "code",
        "colab": {}
      },
      "source": [
        "#ajustando tipos dos dados\n",
        "chamadosCTTU['tipo_atendimento'] = chamadosCTTU['tipo_atendimento'].astype('category')\n",
        "chamadosCTTU['situacao'] = chamadosCTTU['situacao'].astype('category')\n",
        "chamadosCTTU['bairro'] = chamadosCTTU['bairro'].astype('category')\n",
        "chamadosCTTU['tipo_ocorrencia'] = chamadosCTTU['tipo_ocorrencia'].astype('category')\n",
        "chamadosCTTU.dtypes"
      ],
      "execution_count": 0,
      "outputs": []
    },
    {
      "cell_type": "code",
      "metadata": {
        "id": "g3vTdH44CSYw",
        "colab_type": "code",
        "colab": {}
      },
      "source": [
        "chamadosCTTU['tipo_atendimento'].cat.categories"
      ],
      "execution_count": 0,
      "outputs": []
    },
    {
      "cell_type": "code",
      "metadata": {
        "id": "Fu8mGpInCanz",
        "colab_type": "code",
        "colab": {
          "base_uri": "https://localhost:8080/",
          "height": 34
        },
        "outputId": "0c7c0bbd-9c2c-4bc0-97ec-ad7ef0fc6275"
      },
      "source": [
        "chamadosCTTU['situacao'].cat.categories"
      ],
      "execution_count": 282,
      "outputs": [
        {
          "output_type": "execute_result",
          "data": {
            "text/plain": [
              "Index(['CANCELADA', 'EM ABERTO', 'EM ATENDIMENTO', 'FINALIZADA', 'PENDENTE'], dtype='object')"
            ]
          },
          "metadata": {
            "tags": []
          },
          "execution_count": 282
        }
      ]
    },
    {
      "cell_type": "code",
      "metadata": {
        "id": "AutmTpvICe0r",
        "colab_type": "code",
        "colab": {}
      },
      "source": [
        "chamadosCTTU['bairro'].cat.categories"
      ],
      "execution_count": 0,
      "outputs": []
    },
    {
      "cell_type": "code",
      "metadata": {
        "id": "vFuSWCLwF3qw",
        "colab_type": "code",
        "colab": {}
      },
      "source": [
        "chamadosCTTU['tipo_ocorrencia'].cat.categories"
      ],
      "execution_count": 0,
      "outputs": []
    },
    {
      "cell_type": "code",
      "metadata": {
        "id": "J5F5z1O6Cke8",
        "colab_type": "code",
        "colab": {}
      },
      "source": [
        "print(chamadosCTTU.isnull().sum())"
      ],
      "execution_count": 0,
      "outputs": []
    },
    {
      "cell_type": "markdown",
      "metadata": {
        "id": "ddwB8-nfG2Fs",
        "colab_type": "text"
      },
      "source": [
        "*Removendo as colunas \"hora_aviso_equipe\", \"hora_chegada\", \"hora_saida\", \"detalhes\" e \"tempo_total\", pois, ou estão vazias ou preenchidas com o texto \"NÃO INFORMADO\". Desta forma, apesar dos campos conterem informações importantes para cálculo de métricas e indicadores, os usuários não estão inserindo tais informações no sistema e a exclusão dos campos nesta análise irá favorecer no desempenho das demais análises.*"
      ]
    },
    {
      "cell_type": "code",
      "metadata": {
        "id": "z5HHF9vWIdzN",
        "colab_type": "code",
        "colab": {}
      },
      "source": [
        "chamadosCTTU2 = chamadosCTTU.drop(columns=['hora_aviso_equipe', 'hora_chegada', 'hora_saida', 'detalhes', 'tempo_total'])"
      ],
      "execution_count": 0,
      "outputs": []
    },
    {
      "cell_type": "code",
      "metadata": {
        "id": "LbzzHwkQJkXL",
        "colab_type": "code",
        "colab": {}
      },
      "source": [
        "chamadosCTTU2.shape"
      ],
      "execution_count": 0,
      "outputs": []
    },
    {
      "cell_type": "code",
      "metadata": {
        "id": "oFNULsFHs3RH",
        "colab_type": "code",
        "colab": {}
      },
      "source": [
        "chamadosCTTU2.dtypes"
      ],
      "execution_count": 0,
      "outputs": []
    },
    {
      "cell_type": "code",
      "metadata": {
        "id": "Hi7Btyo2WM5H",
        "colab_type": "code",
        "colab": {}
      },
      "source": [
        "#Alterando os quantitativos NaN para 0\n",
        "chamadosCTTU2.moto.fillna(0, inplace=True)\n",
        "chamadosCTTU2.auto.fillna(0, inplace=True)\n",
        "chamadosCTTU2.ciclomotor.fillna(0, inplace=True)\n",
        "chamadosCTTU2.caminhao.fillna(0, inplace=True)\n",
        "chamadosCTTU2.viatura.fillna(0, inplace=True)\n",
        "chamadosCTTU2.vitimas.fillna(0, inplace=True)\n",
        "chamadosCTTU2.ciclista.fillna(0, inplace=True)\n",
        "chamadosCTTU2.pedestre.fillna(0, inplace=True)\n",
        "chamadosCTTU2.onibus.fillna(0, inplace=True)\n",
        "chamadosCTTU2.outro.fillna(0, inplace=True)"
      ],
      "execution_count": 0,
      "outputs": []
    },
    {
      "cell_type": "code",
      "metadata": {
        "id": "HmUOyjSGYIrx",
        "colab_type": "code",
        "colab": {}
      },
      "source": [
        "print(chamadosCTTU2.isnull().sum())"
      ],
      "execution_count": 0,
      "outputs": []
    },
    {
      "cell_type": "code",
      "metadata": {
        "colab_type": "code",
        "id": "7pD74inKuQeO",
        "colab": {}
      },
      "source": [
        "print(chamadosCTTU2.describe())"
      ],
      "execution_count": 0,
      "outputs": []
    },
    {
      "cell_type": "code",
      "metadata": {
        "id": "SqbPtwPT5gaz",
        "colab_type": "code",
        "colab": {}
      },
      "source": [
        "print(chamadosCTTU.head())"
      ],
      "execution_count": 0,
      "outputs": []
    },
    {
      "cell_type": "markdown",
      "metadata": {
        "id": "PTSyfYFwAuTM",
        "colab_type": "text"
      },
      "source": [
        "**Tratamento de dados: Deletar linhas vazias dos campos 'tipo_atendimento', 'situacao',  'data_chamado', 'hora_chamado', 'tipo_ocorrencia'**\n",
        "\n",
        "*Obs: os campos numéricos contendo o quantitativo vazio de envolvidos em acidentes não serão excluídos ou inputados, pois influencia diretamente no grau do incidente de trânsito*"
      ]
    },
    {
      "cell_type": "code",
      "metadata": {
        "id": "DjGUfkVg6c6x",
        "colab_type": "code",
        "colab": {}
      },
      "source": [
        "chamadosCTTU3 = chamadosCTTU2.dropna(subset=['tipo_atendimento','situacao', 'data_chamado', 'hora_chamado','tipo_ocorrencia'])"
      ],
      "execution_count": 0,
      "outputs": []
    },
    {
      "cell_type": "code",
      "metadata": {
        "id": "nHDucG6sASpr",
        "colab_type": "code",
        "colab": {}
      },
      "source": [
        "print(chamadosCTTU3.shape)\n",
        "print(\"~~~~~~~~~\")\n",
        "print(chamadosCTTU3.dtypes)\n",
        "print(\"~~~~~~~~~\")\n",
        "print(chamadosCTTU3.isnull().sum())\n",
        "print(\"~~~~~~~~~\")\n",
        "print(chamadosCTTU3.head())"
      ],
      "execution_count": 0,
      "outputs": []
    },
    {
      "cell_type": "code",
      "metadata": {
        "id": "XSkppy30ArDb",
        "colab_type": "code",
        "colab": {}
      },
      "source": [
        "chamadosCTTU3.describe()"
      ],
      "execution_count": 0,
      "outputs": []
    },
    {
      "cell_type": "code",
      "metadata": {
        "id": "eGxYdBWf00v2",
        "colab_type": "code",
        "colab": {}
      },
      "source": [
        "#criar campo com a soma dos envolvidos por chamado\n",
        "chamadosCTTU3['sum_envolvidos'] = chamadosCTTU3['auto'] + chamadosCTTU3['moto'] + chamadosCTTU3['ciclomotor'] + chamadosCTTU3['caminhao'] + chamadosCTTU3['viatura'] + chamadosCTTU3['ciclista'] + chamadosCTTU3['pedestre'] + chamadosCTTU3['onibus'] + chamadosCTTU3['outro']"
      ],
      "execution_count": 0,
      "outputs": []
    },
    {
      "cell_type": "markdown",
      "metadata": {
        "id": "STOBLxljNRV6",
        "colab_type": "text"
      },
      "source": [
        "**Normalização min-max em Vitimas**"
      ]
    },
    {
      "cell_type": "code",
      "metadata": {
        "colab_type": "code",
        "id": "2HensMXGNNHU",
        "colab": {}
      },
      "source": [
        "chamadosCTTU3['vitimas_norm']= (chamadosCTTU3['vitimas'] - chamadosCTTU3['vitimas'].min()) / (chamadosCTTU3['vitimas'].max() - chamadosCTTU3['vitimas'].min())"
      ],
      "execution_count": 0,
      "outputs": []
    },
    {
      "cell_type": "code",
      "metadata": {
        "colab_type": "code",
        "id": "gC6Dr7IXLvWJ",
        "colab": {}
      },
      "source": [
        "from sklearn.preprocessing import StandardScaler, MinMaxScaler\n",
        "scaler = MinMaxScaler()\n",
        "chamadosCTTU3['vitimas_norm'] = scaler.fit_transform(chamadosCTTU3[['vitimas']])\n",
        "chamadosCTTU3['vitimas_norm'].describe()"
      ],
      "execution_count": 0,
      "outputs": []
    },
    {
      "cell_type": "code",
      "metadata": {
        "id": "ikW5V94Fu83L",
        "colab_type": "code",
        "colab": {}
      },
      "source": [
        "chamadosCTTU3['vitimas'].plot.box()"
      ],
      "execution_count": 0,
      "outputs": []
    },
    {
      "cell_type": "code",
      "metadata": {
        "id": "I9uGNXQ3vmTo",
        "colab_type": "code",
        "colab": {}
      },
      "source": [
        "chamadosCTTU3['vitimas'].hist()"
      ],
      "execution_count": 0,
      "outputs": []
    },
    {
      "cell_type": "code",
      "metadata": {
        "id": "rjgmH173vJ_4",
        "colab_type": "code",
        "colab": {}
      },
      "source": [
        "chamadosCTTU3['vitimas_norm'].plot.box()"
      ],
      "execution_count": 0,
      "outputs": []
    },
    {
      "cell_type": "code",
      "metadata": {
        "id": "8iuUToRm7Sy_",
        "colab_type": "code",
        "colab": {}
      },
      "source": [
        "chamadosCTTU3['vitimas_norm'].hist()"
      ],
      "execution_count": 0,
      "outputs": []
    },
    {
      "cell_type": "markdown",
      "metadata": {
        "id": "kOK4pl8nrM6M",
        "colab_type": "text"
      },
      "source": [
        "**Normalização por Média e Desvio Padrão em:\n",
        "1) Vitimas\n",
        "2) sum_envolvidos (soma de veículos envolvidos)**"
      ]
    },
    {
      "cell_type": "code",
      "metadata": {
        "id": "pi_L3LSvMXPi",
        "colab_type": "code",
        "colab": {}
      },
      "source": [
        "chamadosCTTU3['vitimas_norm2'] = (chamadosCTTU3['vitimas'] - chamadosCTTU3['vitimas'].mean()) / (chamadosCTTU3['vitimas'].std())\n",
        "chamadosCTTU3['vitimas_norm2'].describe()"
      ],
      "execution_count": 0,
      "outputs": []
    },
    {
      "cell_type": "code",
      "metadata": {
        "id": "Xvz50V56vRmp",
        "colab_type": "code",
        "colab": {}
      },
      "source": [
        "chamadosCTTU3['vitimas_norm2'].plot.box()"
      ],
      "execution_count": 0,
      "outputs": []
    },
    {
      "cell_type": "code",
      "metadata": {
        "id": "abpWlyuF7iJg",
        "colab_type": "code",
        "colab": {}
      },
      "source": [
        "chamadosCTTU3['sum_envolvidos_norm2'] = (chamadosCTTU3['sum_envolvidos'] - chamadosCTTU3['sum_envolvidos'].mean()) / (chamadosCTTU3['sum_envolvidos'].std())\n",
        "chamadosCTTU3['sum_envolvidos_norm2'].describe()"
      ],
      "execution_count": 0,
      "outputs": []
    },
    {
      "cell_type": "code",
      "metadata": {
        "id": "GYjPR4fb7x3A",
        "colab_type": "code",
        "colab": {}
      },
      "source": [
        "chamadosCTTU3['sum_envolvidos_norm'] = scaler.fit_transform(chamadosCTTU3[['sum_envolvidos']])\n",
        "chamadosCTTU3['sum_envolvidos_norm'].describe()\n",
        "chamadosCTTU3['sum_envolvidos_norm'].plot.box()"
      ],
      "execution_count": 0,
      "outputs": []
    },
    {
      "cell_type": "markdown",
      "metadata": {
        "id": "_7TFmgaR9zuG",
        "colab_type": "text"
      },
      "source": [
        "**Normalizaçao 2: Nova tabela contendo somente os registros com sum_envolvidos (soma de envolvidos) > 0**"
      ]
    },
    {
      "cell_type": "code",
      "metadata": {
        "id": "hi89-l8W9zBx",
        "colab_type": "code",
        "colab": {}
      },
      "source": [
        "chamadosCTTU4 = chamadosCTTU3[chamadosCTTU3.sum_envolvidos > 0]\n",
        "#normalização min-max\n",
        "chamadosCTTU4['sum_envolvidos_norm'] = (chamadosCTTU4['sum_envolvidos'] - chamadosCTTU4['sum_envolvidos'].mean()) / (chamadosCTTU4['sum_envolvidos'].std())\n",
        "#normalização média-desvio padrão\n",
        "chamadosCTTU4['sum_envolvidos_norm2'] = (chamadosCTTU4['sum_envolvidos'] - chamadosCTTU4['sum_envolvidos'].mean()) / (chamadosCTTU4['sum_envolvidos'].std())"
      ],
      "execution_count": 0,
      "outputs": []
    },
    {
      "cell_type": "code",
      "metadata": {
        "id": "Z6N3sLbeCssV",
        "colab_type": "code",
        "colab": {}
      },
      "source": [
        "#Tabela a ser utilizada nos testes de Discretização\n",
        "chamadosCTTU5 = chamadosCTTU4.drop(columns=['vitimas_norm','vitimas_norm2'])"
      ],
      "execution_count": 0,
      "outputs": []
    },
    {
      "cell_type": "code",
      "metadata": {
        "id": "7rbO6IJOATwX",
        "colab_type": "code",
        "colab": {}
      },
      "source": [
        "print(chamadosCTTU5.shape)\n",
        "print(\"~~~~~~~~~\")\n",
        "print(chamadosCTTU5.describe())\n",
        "print(\"~~~~~~~~~\")\n",
        "print(chamadosCTTU5.isnull().sum())\n",
        "print(\"~~~~~~~~~\")\n",
        "print(chamadosCTTU5.head())"
      ],
      "execution_count": 0,
      "outputs": []
    },
    {
      "cell_type": "code",
      "metadata": {
        "id": "_EshhXBoOz-i",
        "colab_type": "code",
        "colab": {}
      },
      "source": [
        "counts = chamadosCTTU5['tipo_atendimento'].value_counts()\n",
        "counts.plot.bar(rot=90)"
      ],
      "execution_count": 0,
      "outputs": []
    },
    {
      "cell_type": "code",
      "metadata": {
        "id": "sxF_0EHmEeTo",
        "colab_type": "code",
        "colab": {}
      },
      "source": [
        "chamadosCTTU5.head()"
      ],
      "execution_count": 0,
      "outputs": []
    },
    {
      "cell_type": "code",
      "metadata": {
        "colab_type": "code",
        "id": "isiDtvGfOT5a",
        "colab": {}
      },
      "source": [
        "chamadosCTTU5['sum_envolvidos_norm'].plot.box()"
      ],
      "execution_count": 0,
      "outputs": []
    },
    {
      "cell_type": "code",
      "metadata": {
        "id": "UEJN4rocOivm",
        "colab_type": "code",
        "colab": {}
      },
      "source": [
        "chamadosCTTU5['sum_envolvidos_norm'].hist()"
      ],
      "execution_count": 0,
      "outputs": []
    },
    {
      "cell_type": "markdown",
      "metadata": {
        "id": "RysmYr7nTCSV",
        "colab_type": "text"
      },
      "source": [
        "**Discretizando sum_envolvidos**"
      ]
    },
    {
      "cell_type": "code",
      "metadata": {
        "id": "nJOGawrbTGTx",
        "colab_type": "code",
        "colab": {}
      },
      "source": [
        "chamadosCTTU5['sum_envolvidos_dist'] = pd.cut(chamadosCTTU5['sum_envolvidos'],10)"
      ],
      "execution_count": 0,
      "outputs": []
    },
    {
      "cell_type": "code",
      "metadata": {
        "id": "_YxWLz0WTg5k",
        "colab_type": "code",
        "colab": {}
      },
      "source": [
        "chamadosCTTU5['sum_envolvidos'].value_counts()"
      ],
      "execution_count": 0,
      "outputs": []
    },
    {
      "cell_type": "code",
      "metadata": {
        "id": "UFNOQgAAYpGJ",
        "colab_type": "code",
        "colab": {}
      },
      "source": [
        "counts = chamadosCTTU5['sum_envolvidos'].value_counts()\n",
        "counts.plot.bar(rot=90)"
      ],
      "execution_count": 0,
      "outputs": []
    },
    {
      "cell_type": "code",
      "metadata": {
        "id": "in3R0KXaY7VC",
        "colab_type": "code",
        "colab": {}
      },
      "source": [
        "chamadosCTTU5['sum_envolvidos'].describe()"
      ],
      "execution_count": 0,
      "outputs": []
    },
    {
      "cell_type": "code",
      "metadata": {
        "id": "ARXo_qInZFp7",
        "colab_type": "code",
        "colab": {}
      },
      "source": [
        "chamadosCTTU5['sum_envolvidos_dist'] = pd.qcut(chamadosCTTU5['sum_envolvidos'].rank(method='first'),4)\n",
        "\n",
        "chamadosCTTU5['sum_envolvidos_dist'].value_counts()"
      ],
      "execution_count": 0,
      "outputs": []
    },
    {
      "cell_type": "code",
      "metadata": {
        "id": "qRiIjjF5cR1g",
        "colab_type": "code",
        "colab": {}
      },
      "source": [
        "count2 = chamadosCTTU5['sum_envolvidos_dist'].value_counts()\n",
        "count2.plot.bar(rot=90)"
      ],
      "execution_count": 0,
      "outputs": []
    },
    {
      "cell_type": "markdown",
      "metadata": {
        "id": "XkodvTopQv5d",
        "colab_type": "text"
      },
      "source": [
        "**Removendo Outliers  z-score robusto (univariado)**"
      ]
    },
    {
      "cell_type": "code",
      "metadata": {
        "id": "Xb1s9PtrRPRl",
        "colab_type": "code",
        "colab": {}
      },
      "source": [
        "chamadosCTTU5['sum_envolvidos_norm'].describe()"
      ],
      "execution_count": 0,
      "outputs": []
    },
    {
      "cell_type": "code",
      "metadata": {
        "id": "_U2nTqBORkId",
        "colab_type": "code",
        "colab": {}
      },
      "source": [
        "chamadosCTTU5['sum_envolvidos'].plot.box()"
      ],
      "execution_count": 0,
      "outputs": []
    },
    {
      "cell_type": "code",
      "metadata": {
        "id": "5WACFhx5Qyjn",
        "colab_type": "code",
        "colab": {
          "base_uri": "https://localhost:8080/",
          "height": 282
        },
        "outputId": "23a39a55-56cf-459f-f041-f476aaf62733"
      },
      "source": [
        "from numpy import log10\n",
        "chamadosCTTU5['sum_envolvidos_log'] = log10(chamadosCTTU5['sum_envolvidos'])\n",
        "chamadosCTTU5['sum_envolvidos_log'].hist()"
      ],
      "execution_count": 243,
      "outputs": [
        {
          "output_type": "execute_result",
          "data": {
            "text/plain": [
              "<matplotlib.axes._subplots.AxesSubplot at 0x7f7478aef2e8>"
            ]
          },
          "metadata": {
            "tags": []
          },
          "execution_count": 243
        },
        {
          "output_type": "display_data",
          "data": {
            "image/png": "[encoded data removed]",
            "text/plain": [
              "<Figure size 432x288 with 1 Axes>"
            ]
          },
          "metadata": {
            "tags": []
          }
        }
      ]
    },
    {
      "cell_type": "code",
      "metadata": {
        "id": "PacxLbUUd9C8",
        "colab_type": "code",
        "outputId": "02ad69db-a81b-484e-e184-6506c89de83c",
        "colab": {
          "base_uri": "https://localhost:8080/",
          "height": 34
        }
      },
      "source": [
        "chamadosCTTU5['sum_envolvidos_log'].mad()"
      ],
      "execution_count": 244,
      "outputs": [
        {
          "output_type": "execute_result",
          "data": {
            "text/plain": [
              "0.13873890405635803"
            ]
          },
          "metadata": {
            "tags": []
          },
          "execution_count": 244
        }
      ]
    },
    {
      "cell_type": "code",
      "metadata": {
        "colab_type": "code",
        "id": "WIyMKILHwOQ0",
        "colab": {
          "base_uri": "https://localhost:8080/",
          "height": 282
        },
        "outputId": "d9f19a3a-1393-4fd5-95a3-6058bbd77d40"
      },
      "source": [
        "(abs(chamadosCTTU5['sum_envolvidos_log']-chamadosCTTU5['sum_envolvidos_log'].median())/chamadosCTTU5['sum_envolvidos_log'].mad()).hist()"
      ],
      "execution_count": 246,
      "outputs": [
        {
          "output_type": "execute_result",
          "data": {
            "text/plain": [
              "<matplotlib.axes._subplots.AxesSubplot at 0x7f7479180b38>"
            ]
          },
          "metadata": {
            "tags": []
          },
          "execution_count": 246
        },
        {
          "output_type": "display_data",
          "data": {
            "image/png": "[encoded data removed]",
            "text/plain": [
              "<Figure size 432x288 with 1 Axes>"
            ]
          },
          "metadata": {
            "tags": []
          }
        }
      ]
    },
    {
      "cell_type": "code",
      "metadata": {
        "id": "FjiB8al6gWvo",
        "colab_type": "code",
        "colab": {}
      },
      "source": [
        "chamadosCTTU5[abs(chamadosCTTU5['sum_envolvidos_log']-chamadosCTTU5['sum_envolvidos_log'].median())/chamadosCTTU5['sum_envolvidos_log'].mad() > 3.5]"
      ],
      "execution_count": 0,
      "outputs": []
    },
    {
      "cell_type": "code",
      "metadata": {
        "id": "xXVHLmuJh2VL",
        "colab_type": "code",
        "colab": {
          "base_uri": "https://localhost:8080/",
          "height": 34
        },
        "outputId": "c1d54805-7177-472f-854a-184b306848d4"
      },
      "source": [
        "chamadosCTTU5 = chamadosCTTU5[abs(chamadosCTTU5['sum_envolvidos_log']-chamadosCTTU5['sum_envolvidos_log'].median())/chamadosCTTU5['sum_envolvidos_log'].mad() < 3.5]\n",
        "print(len(chamadosCTTU5))"
      ],
      "execution_count": 259,
      "outputs": [
        {
          "output_type": "stream",
          "text": [
            "4681\n"
          ],
          "name": "stdout"
        }
      ]
    },
    {
      "cell_type": "markdown",
      "metadata": {
        "id": "6x2JVqmgAMCs",
        "colab_type": "text"
      },
      "source": [
        "**Removendo Outliers Tukey (univariado)**"
      ]
    },
    {
      "cell_type": "code",
      "metadata": {
        "id": "sxIiMdqoMjc_",
        "colab_type": "code",
        "colab": {
          "base_uri": "https://localhost:8080/",
          "height": 170
        },
        "outputId": "3c296623-a86a-459a-8046-47d563d012c0"
      },
      "source": [
        "chamadosCTTU5['sum_envolvidos'].describe()"
      ],
      "execution_count": 19,
      "outputs": [
        {
          "output_type": "execute_result",
          "data": {
            "text/plain": [
              "count    4762.000000\n",
              "mean        1.944141\n",
              "std         1.490652\n",
              "min         1.000000\n",
              "25%         1.000000\n",
              "50%         2.000000\n",
              "75%         2.000000\n",
              "max        45.000000\n",
              "Name: sum_envolvidos, dtype: float64"
            ]
          },
          "metadata": {
            "tags": []
          },
          "execution_count": 19
        }
      ]
    },
    {
      "cell_type": "code",
      "metadata": {
        "id": "Qr45iTAlNNLO",
        "colab_type": "code",
        "colab": {}
      },
      "source": [
        "chamadosCTTU5['sum_envolvidos'].plot.box()"
      ],
      "execution_count": 0,
      "outputs": []
    },
    {
      "cell_type": "code",
      "metadata": {
        "id": "397jgDAENTGf",
        "colab_type": "code",
        "colab": {}
      },
      "source": [
        "chamadosCTTU5['sum_envolvidos'].hist()"
      ],
      "execution_count": 0,
      "outputs": []
    },
    {
      "cell_type": "code",
      "metadata": {
        "id": "xj-QM9trNcCO",
        "colab_type": "code",
        "colab": {
          "base_uri": "https://localhost:8080/",
          "height": 282
        },
        "outputId": "9ba17f84-8da7-4eef-cd73-beabc02f8ceb"
      },
      "source": [
        "from numpy import log10\n",
        "chamadosCTTU5['sum_envolvidos_log'] = log10(chamadosCTTU5['sum_envolvidos'])\n",
        "chamadosCTTU5['sum_envolvidos_log'].hist()"
      ],
      "execution_count": 20,
      "outputs": [
        {
          "output_type": "execute_result",
          "data": {
            "text/plain": [
              "<matplotlib.axes._subplots.AxesSubplot at 0x7feb887014e0>"
            ]
          },
          "metadata": {
            "tags": []
          },
          "execution_count": 20
        },
        {
          "output_type": "display_data",
          "data": {
            "image/png": "[encoded data removed]",
            "text/plain": [
              "<Figure size 432x288 with 1 Axes>"
            ]
          },
          "metadata": {
            "tags": []
          }
        }
      ]
    },
    {
      "cell_type": "code",
      "metadata": {
        "id": "_wppc1DyS-bk",
        "colab_type": "code",
        "colab": {
          "base_uri": "https://localhost:8080/",
          "height": 34
        },
        "outputId": "84561fb7-69e8-4bee-8c76-bc7560558382"
      },
      "source": [
        "q1 = chamadosCTTU5['sum_envolvidos_log'].quantile(q=0.25)\n",
        "q3 = chamadosCTTU5['sum_envolvidos_log'].quantile(q=0.75)\n",
        "iqr = q3 - q1\n",
        "print(iqr)"
      ],
      "execution_count": 21,
      "outputs": [
        {
          "output_type": "stream",
          "text": [
            "0.3010299956639812\n"
          ],
          "name": "stdout"
        }
      ]
    },
    {
      "cell_type": "code",
      "metadata": {
        "id": "NZ6ggRHWTGz4",
        "colab_type": "code",
        "colab": {
          "base_uri": "https://localhost:8080/",
          "height": 69
        },
        "outputId": "f633b0a5-b234-47ab-9dec-065e6eda5d80"
      },
      "source": [
        "chamadosCTTU5[chamadosCTTU5['sum_envolvidos_log'] < (q1-1.5*iqr)]"
      ],
      "execution_count": 22,
      "outputs": [
        {
          "output_type": "execute_result",
          "data": {
            "text/html": [
              "<div>\n",
              "<style scoped>\n",
              "    .dataframe tbody tr th:only-of-type {\n",
              "        vertical-align: middle;\n",
              "    }\n",
              "\n",
              "    .dataframe tbody tr th {\n",
              "        vertical-align: top;\n",
              "    }\n",
              "\n",
              "    .dataframe thead th {\n",
              "        text-align: right;\n",
              "    }\n",
              "</style>\n",
              "<table border=\"1\" class=\"dataframe\">\n",
              "  <thead>\n",
              "    <tr style=\"text-align: right;\">\n",
              "      <th></th>\n",
              "      <th>tipo_atendimento</th>\n",
              "      <th>situacao</th>\n",
              "      <th>data_chamado</th>\n",
              "      <th>hora_chamado</th>\n",
              "      <th>bairro</th>\n",
              "      <th>endereco</th>\n",
              "      <th>numero</th>\n",
              "      <th>complemento</th>\n",
              "      <th>tipo_ocorrencia</th>\n",
              "      <th>auto</th>\n",
              "      <th>moto</th>\n",
              "      <th>ciclomotor</th>\n",
              "      <th>ciclista</th>\n",
              "      <th>pedestre</th>\n",
              "      <th>onibus</th>\n",
              "      <th>caminhao</th>\n",
              "      <th>viatura</th>\n",
              "      <th>outro</th>\n",
              "      <th>vitimas</th>\n",
              "      <th>sum_envolvidos</th>\n",
              "      <th>sum_envolvidos_norm</th>\n",
              "      <th>sum_envolvidos_norm2</th>\n",
              "      <th>sum_envolvidos_log</th>\n",
              "    </tr>\n",
              "  </thead>\n",
              "  <tbody>\n",
              "  </tbody>\n",
              "</table>\n",
              "</div>"
            ],
            "text/plain": [
              "Empty DataFrame\n",
              "Columns: [tipo_atendimento, situacao, data_chamado, hora_chamado, bairro, endereco, numero, complemento, tipo_ocorrencia, auto, moto, ciclomotor, ciclista, pedestre, onibus, caminhao, viatura, outro, vitimas, sum_envolvidos, sum_envolvidos_norm, sum_envolvidos_norm2, sum_envolvidos_log]\n",
              "Index: []"
            ]
          },
          "metadata": {
            "tags": []
          },
          "execution_count": 22
        }
      ]
    },
    {
      "cell_type": "code",
      "metadata": {
        "id": "Z52_8ja4TS9U",
        "colab_type": "code",
        "colab": {
          "base_uri": "https://localhost:8080/",
          "height": 813
        },
        "outputId": "b2467a5c-c9be-49ab-8ae6-8d5ce836bdfa"
      },
      "source": [
        "chamadosCTTU5[chamadosCTTU5['sum_envolvidos_log'] > (q3+1.5*iqr)]"
      ],
      "execution_count": 23,
      "outputs": [
        {
          "output_type": "execute_result",
          "data": {
            "text/html": [
              "<div>\n",
              "<style scoped>\n",
              "    .dataframe tbody tr th:only-of-type {\n",
              "        vertical-align: middle;\n",
              "    }\n",
              "\n",
              "    .dataframe tbody tr th {\n",
              "        vertical-align: top;\n",
              "    }\n",
              "\n",
              "    .dataframe thead th {\n",
              "        text-align: right;\n",
              "    }\n",
              "</style>\n",
              "<table border=\"1\" class=\"dataframe\">\n",
              "  <thead>\n",
              "    <tr style=\"text-align: right;\">\n",
              "      <th></th>\n",
              "      <th>tipo_atendimento</th>\n",
              "      <th>situacao</th>\n",
              "      <th>data_chamado</th>\n",
              "      <th>hora_chamado</th>\n",
              "      <th>bairro</th>\n",
              "      <th>endereco</th>\n",
              "      <th>numero</th>\n",
              "      <th>complemento</th>\n",
              "      <th>tipo_ocorrencia</th>\n",
              "      <th>auto</th>\n",
              "      <th>moto</th>\n",
              "      <th>ciclomotor</th>\n",
              "      <th>ciclista</th>\n",
              "      <th>pedestre</th>\n",
              "      <th>onibus</th>\n",
              "      <th>caminhao</th>\n",
              "      <th>viatura</th>\n",
              "      <th>outro</th>\n",
              "      <th>vitimas</th>\n",
              "      <th>sum_envolvidos</th>\n",
              "      <th>sum_envolvidos_norm</th>\n",
              "      <th>sum_envolvidos_norm2</th>\n",
              "      <th>sum_envolvidos_log</th>\n",
              "    </tr>\n",
              "  </thead>\n",
              "  <tbody>\n",
              "    <tr>\n",
              "      <th>74</th>\n",
              "      <td>\"FISCALIZAÇÃO\"</td>\n",
              "      <td>PENDENTE</td>\n",
              "      <td>01/02/2016</td>\n",
              "      <td>14:04</td>\n",
              "      <td>BOA VISTA</td>\n",
              "      <td>\"AV MANOEL BORBA\"</td>\n",
              "      <td>NaN</td>\n",
              "      <td>\"E/F AO HAPVIDA\"</td>\n",
              "      <td>\"FISCALIZAÇÃO\"</td>\n",
              "      <td>9.0</td>\n",
              "      <td>0.0</td>\n",
              "      <td>0.0</td>\n",
              "      <td>0.0</td>\n",
              "      <td>0.0</td>\n",
              "      <td>0.0</td>\n",
              "      <td>0.0</td>\n",
              "      <td>0.0</td>\n",
              "      <td>0.0</td>\n",
              "      <td>0.0</td>\n",
              "      <td>9.0</td>\n",
              "      <td>4.733406</td>\n",
              "      <td>4.733406</td>\n",
              "      <td>0.954243</td>\n",
              "    </tr>\n",
              "    <tr>\n",
              "      <th>92</th>\n",
              "      <td>\"FISCALIZAÇÃO\"</td>\n",
              "      <td>PENDENTE</td>\n",
              "      <td>01/02/2016</td>\n",
              "      <td>15:44</td>\n",
              "      <td>BOA VIAGEM</td>\n",
              "      <td>\"RUA PROFESSOR ALOISIO PESSOA DE ARAUJO\"</td>\n",
              "      <td>65</td>\n",
              "      <td>\"RUA DO BANCO DAYCOVAL\"</td>\n",
              "      <td>\"FISCALIZAÇÃO\"</td>\n",
              "      <td>15.0</td>\n",
              "      <td>0.0</td>\n",
              "      <td>0.0</td>\n",
              "      <td>0.0</td>\n",
              "      <td>0.0</td>\n",
              "      <td>0.0</td>\n",
              "      <td>0.0</td>\n",
              "      <td>0.0</td>\n",
              "      <td>0.0</td>\n",
              "      <td>0.0</td>\n",
              "      <td>15.0</td>\n",
              "      <td>8.758492</td>\n",
              "      <td>8.758492</td>\n",
              "      <td>1.176091</td>\n",
              "    </tr>\n",
              "    <tr>\n",
              "      <th>257</th>\n",
              "      <td>\"FISCALIZAÇÃO\"</td>\n",
              "      <td>PENDENTE</td>\n",
              "      <td>03/02/2016</td>\n",
              "      <td>12:37</td>\n",
              "      <td>PINA</td>\n",
              "      <td>\"RUA CARACATUBA\"</td>\n",
              "      <td>NaN</td>\n",
              "      <td>\"PARALELA A ENG ANTONIO DE GOES, E/F AO EMPRES...</td>\n",
              "      <td>\"FISCALIZAÇÃO\"</td>\n",
              "      <td>10.0</td>\n",
              "      <td>0.0</td>\n",
              "      <td>0.0</td>\n",
              "      <td>0.0</td>\n",
              "      <td>0.0</td>\n",
              "      <td>0.0</td>\n",
              "      <td>0.0</td>\n",
              "      <td>0.0</td>\n",
              "      <td>0.0</td>\n",
              "      <td>0.0</td>\n",
              "      <td>10.0</td>\n",
              "      <td>5.404254</td>\n",
              "      <td>5.404254</td>\n",
              "      <td>1.000000</td>\n",
              "    </tr>\n",
              "    <tr>\n",
              "      <th>524</th>\n",
              "      <td>\"COM VÍTIMA\"</td>\n",
              "      <td>FINALIZADA</td>\n",
              "      <td>01/01/2016</td>\n",
              "      <td>23:09</td>\n",
              "      <td>BEBERIBE</td>\n",
              "      <td>\"AV BEBERIBE\"</td>\n",
              "      <td>4510</td>\n",
              "      <td>\"NO POSTO DE SAUDE DE BEBERIBE \"</td>\n",
              "      <td>\"ATROPELAMENTO\"</td>\n",
              "      <td>0.0</td>\n",
              "      <td>1.0</td>\n",
              "      <td>0.0</td>\n",
              "      <td>0.0</td>\n",
              "      <td>0.0</td>\n",
              "      <td>1.0</td>\n",
              "      <td>0.0</td>\n",
              "      <td>0.0</td>\n",
              "      <td>6.0</td>\n",
              "      <td>1.0</td>\n",
              "      <td>8.0</td>\n",
              "      <td>4.062558</td>\n",
              "      <td>4.062558</td>\n",
              "      <td>0.903090</td>\n",
              "    </tr>\n",
              "    <tr>\n",
              "      <th>1249</th>\n",
              "      <td>\"FISCALIZAÇÃO\"</td>\n",
              "      <td>EM ATENDIMENTO</td>\n",
              "      <td>11/02/2016</td>\n",
              "      <td>12:05</td>\n",
              "      <td>GRAÇAS</td>\n",
              "      <td>\"RUA GERVASIO FIORAVANTE\"</td>\n",
              "      <td>NaN</td>\n",
              "      <td>\"ESCOLA DO COLÉGIO ENCONTRO\"</td>\n",
              "      <td>\"FISCALIZAÇÃO\"</td>\n",
              "      <td>15.0</td>\n",
              "      <td>0.0</td>\n",
              "      <td>0.0</td>\n",
              "      <td>0.0</td>\n",
              "      <td>0.0</td>\n",
              "      <td>0.0</td>\n",
              "      <td>0.0</td>\n",
              "      <td>0.0</td>\n",
              "      <td>0.0</td>\n",
              "      <td>0.0</td>\n",
              "      <td>15.0</td>\n",
              "      <td>8.758492</td>\n",
              "      <td>8.758492</td>\n",
              "      <td>1.176091</td>\n",
              "    </tr>\n",
              "    <tr>\n",
              "      <th>...</th>\n",
              "      <td>...</td>\n",
              "      <td>...</td>\n",
              "      <td>...</td>\n",
              "      <td>...</td>\n",
              "      <td>...</td>\n",
              "      <td>...</td>\n",
              "      <td>...</td>\n",
              "      <td>...</td>\n",
              "      <td>...</td>\n",
              "      <td>...</td>\n",
              "      <td>...</td>\n",
              "      <td>...</td>\n",
              "      <td>...</td>\n",
              "      <td>...</td>\n",
              "      <td>...</td>\n",
              "      <td>...</td>\n",
              "      <td>...</td>\n",
              "      <td>...</td>\n",
              "      <td>...</td>\n",
              "      <td>...</td>\n",
              "      <td>...</td>\n",
              "      <td>...</td>\n",
              "      <td>...</td>\n",
              "    </tr>\n",
              "    <tr>\n",
              "      <th>9422</th>\n",
              "      <td>\"FISCALIZAÇÃO\"</td>\n",
              "      <td>PENDENTE</td>\n",
              "      <td>25/03/2016</td>\n",
              "      <td>14:02</td>\n",
              "      <td>GRAÇAS</td>\n",
              "      <td>\"RUA DAS PERNAMBUCANAS\"</td>\n",
              "      <td>\"PT DE TÁXI HOSPITAL JAYME DA FONTE\"</td>\n",
              "      <td>NaN</td>\n",
              "      <td>\"FISCALIZAÇÃO\"</td>\n",
              "      <td>7.0</td>\n",
              "      <td>0.0</td>\n",
              "      <td>0.0</td>\n",
              "      <td>0.0</td>\n",
              "      <td>0.0</td>\n",
              "      <td>0.0</td>\n",
              "      <td>0.0</td>\n",
              "      <td>0.0</td>\n",
              "      <td>0.0</td>\n",
              "      <td>0.0</td>\n",
              "      <td>7.0</td>\n",
              "      <td>3.391711</td>\n",
              "      <td>3.391711</td>\n",
              "      <td>0.845098</td>\n",
              "    </tr>\n",
              "    <tr>\n",
              "      <th>9423</th>\n",
              "      <td>\"FISCALIZAÇÃO\"</td>\n",
              "      <td>FINALIZADA</td>\n",
              "      <td>25/03/2016</td>\n",
              "      <td>14:26</td>\n",
              "      <td>DERBY</td>\n",
              "      <td>\"AV GOVERNADOR AGAMENON MAGALHAES\"</td>\n",
              "      <td>\"HOSPITAL DA RESTAURACAO\"</td>\n",
              "      <td>NaN</td>\n",
              "      <td>\"FISCALIZAÇÃO\"</td>\n",
              "      <td>12.0</td>\n",
              "      <td>0.0</td>\n",
              "      <td>0.0</td>\n",
              "      <td>0.0</td>\n",
              "      <td>0.0</td>\n",
              "      <td>0.0</td>\n",
              "      <td>0.0</td>\n",
              "      <td>0.0</td>\n",
              "      <td>0.0</td>\n",
              "      <td>0.0</td>\n",
              "      <td>12.0</td>\n",
              "      <td>6.745949</td>\n",
              "      <td>6.745949</td>\n",
              "      <td>1.079181</td>\n",
              "    </tr>\n",
              "    <tr>\n",
              "      <th>9611</th>\n",
              "      <td>\"FISCALIZAÇÃO\"</td>\n",
              "      <td>PENDENTE</td>\n",
              "      <td>29/03/2016</td>\n",
              "      <td>13:32</td>\n",
              "      <td>CORDEIRO</td>\n",
              "      <td>\"AV CAXANGA\"</td>\n",
              "      <td>\"E/F AO CAXANGA GRILL\"</td>\n",
              "      <td>NaN</td>\n",
              "      <td>\"FISCALIZAÇÃO\"</td>\n",
              "      <td>10.0</td>\n",
              "      <td>0.0</td>\n",
              "      <td>0.0</td>\n",
              "      <td>0.0</td>\n",
              "      <td>0.0</td>\n",
              "      <td>0.0</td>\n",
              "      <td>0.0</td>\n",
              "      <td>0.0</td>\n",
              "      <td>0.0</td>\n",
              "      <td>0.0</td>\n",
              "      <td>10.0</td>\n",
              "      <td>5.404254</td>\n",
              "      <td>5.404254</td>\n",
              "      <td>1.000000</td>\n",
              "    </tr>\n",
              "    <tr>\n",
              "      <th>9620</th>\n",
              "      <td>\"ENTRADA E SAÍDA\"</td>\n",
              "      <td>PENDENTE</td>\n",
              "      <td>29/03/2016</td>\n",
              "      <td>15:47</td>\n",
              "      <td>IPUTINGA</td>\n",
              "      <td>\"RUA GASPAR PEREZ\"</td>\n",
              "      <td>\"EM FRENTE AO ESTACIONAMENTO DO ESCRITORIO WAL...</td>\n",
              "      <td>NaN</td>\n",
              "      <td>\"ENTRADA E SAÍDA\"</td>\n",
              "      <td>15.0</td>\n",
              "      <td>0.0</td>\n",
              "      <td>0.0</td>\n",
              "      <td>0.0</td>\n",
              "      <td>0.0</td>\n",
              "      <td>0.0</td>\n",
              "      <td>0.0</td>\n",
              "      <td>0.0</td>\n",
              "      <td>0.0</td>\n",
              "      <td>0.0</td>\n",
              "      <td>15.0</td>\n",
              "      <td>8.758492</td>\n",
              "      <td>8.758492</td>\n",
              "      <td>1.176091</td>\n",
              "    </tr>\n",
              "    <tr>\n",
              "      <th>9710</th>\n",
              "      <td>\"ENTRADA E SAÍDA\"</td>\n",
              "      <td>CANCELADA</td>\n",
              "      <td>30/03/2016</td>\n",
              "      <td>16:42</td>\n",
              "      <td>PARNAMIRIM</td>\n",
              "      <td>\"PRC DR LULA CABRAL DE MELO\"</td>\n",
              "      <td>\"E/F DA FARMACIA DROGASIL\"</td>\n",
              "      <td>30</td>\n",
              "      <td>\"ENTRADA E SAÍDA\"</td>\n",
              "      <td>12.0</td>\n",
              "      <td>0.0</td>\n",
              "      <td>0.0</td>\n",
              "      <td>0.0</td>\n",
              "      <td>0.0</td>\n",
              "      <td>0.0</td>\n",
              "      <td>0.0</td>\n",
              "      <td>0.0</td>\n",
              "      <td>0.0</td>\n",
              "      <td>0.0</td>\n",
              "      <td>12.0</td>\n",
              "      <td>6.745949</td>\n",
              "      <td>6.745949</td>\n",
              "      <td>1.079181</td>\n",
              "    </tr>\n",
              "  </tbody>\n",
              "</table>\n",
              "<p>81 rows × 23 columns</p>\n",
              "</div>"
            ],
            "text/plain": [
              "       tipo_atendimento  ... sum_envolvidos_log\n",
              "74       \"FISCALIZAÇÃO\"  ...           0.954243\n",
              "92       \"FISCALIZAÇÃO\"  ...           1.176091\n",
              "257      \"FISCALIZAÇÃO\"  ...           1.000000\n",
              "524        \"COM VÍTIMA\"  ...           0.903090\n",
              "1249     \"FISCALIZAÇÃO\"  ...           1.176091\n",
              "...                 ...  ...                ...\n",
              "9422     \"FISCALIZAÇÃO\"  ...           0.845098\n",
              "9423     \"FISCALIZAÇÃO\"  ...           1.079181\n",
              "9611     \"FISCALIZAÇÃO\"  ...           1.000000\n",
              "9620  \"ENTRADA E SAÍDA\"  ...           1.176091\n",
              "9710  \"ENTRADA E SAÍDA\"  ...           1.079181\n",
              "\n",
              "[81 rows x 23 columns]"
            ]
          },
          "metadata": {
            "tags": []
          },
          "execution_count": 23
        }
      ]
    },
    {
      "cell_type": "code",
      "metadata": {
        "id": "RqjuMDFSTuYG",
        "colab_type": "code",
        "colab": {
          "base_uri": "https://localhost:8080/",
          "height": 34
        },
        "outputId": "bf0603f9-51d7-46e0-b8d5-8c337783ce0c"
      },
      "source": [
        "chamadosCTTU5 = chamadosCTTU5[(chamadosCTTU5['sum_envolvidos_log'] > (q1-1.5*iqr)) & (chamadosCTTU5['sum_envolvidos_log'] < (q3+1.5*iqr))]\n",
        "len(chamadosCTTU5)"
      ],
      "execution_count": 24,
      "outputs": [
        {
          "output_type": "execute_result",
          "data": {
            "text/plain": [
              "4681"
            ]
          },
          "metadata": {
            "tags": []
          },
          "execution_count": 24
        }
      ]
    },
    {
      "cell_type": "markdown",
      "metadata": {
        "id": "77PluiXYVWIM",
        "colab_type": "text"
      },
      "source": [
        "**Pelo método Tukey foi possível identificar os outliers**"
      ]
    },
    {
      "cell_type": "code",
      "metadata": {
        "id": "VPSIzNQxVl6h",
        "colab_type": "code",
        "colab": {}
      },
      "source": [
        "chamadosCTTU5['sum_envolvidos_log'].describe()"
      ],
      "execution_count": 0,
      "outputs": []
    },
    {
      "cell_type": "code",
      "metadata": {
        "id": "B2aZ1Xw6VpeP",
        "colab_type": "code",
        "colab": {}
      },
      "source": [
        "chamadosCTTU5['sum_envolvidos_log'].plot.box()"
      ],
      "execution_count": 0,
      "outputs": []
    },
    {
      "cell_type": "code",
      "metadata": {
        "id": "CCsegx3MVtQb",
        "colab_type": "code",
        "colab": {}
      },
      "source": [
        "chamadosCTTU5['sum_envolvidos_log'].hist()"
      ],
      "execution_count": 0,
      "outputs": []
    },
    {
      "cell_type": "markdown",
      "metadata": {
        "id": "zNyHB31IWEmZ",
        "colab_type": "text"
      },
      "source": [
        "**Removendo outliers usando razão de duas variáveis (bivariado), que serão Soma dos envolvidos nos acidentes VS Vitimas**"
      ]
    },
    {
      "cell_type": "code",
      "metadata": {
        "id": "_uadX6N8ew7m",
        "colab_type": "code",
        "colab": {
          "base_uri": "https://localhost:8080/",
          "height": 34
        },
        "outputId": "4aeaeb59-9949-4546-ec83-f359eb4a13c0"
      },
      "source": [
        "#Tabela a ser utilizada nos testes de remoção de outliers - bivariado\n",
        "chamadosCTTU6 = chamadosCTTU4.drop(columns=['vitimas_norm','vitimas_norm2'])\n",
        "chamadosCTTU7 = chamadosCTTU6[chamadosCTTU6.vitimas > 0]\n",
        "len(chamadosCTTU7)"
      ],
      "execution_count": 25,
      "outputs": [
        {
          "output_type": "execute_result",
          "data": {
            "text/plain": [
              "502"
            ]
          },
          "metadata": {
            "tags": []
          },
          "execution_count": 25
        }
      ]
    },
    {
      "cell_type": "code",
      "metadata": {
        "id": "fF4wu-wfet8k",
        "colab_type": "code",
        "colab": {}
      },
      "source": [
        "chamadosCTTU7.plot.scatter(x='sum_envolvidos',y='vitimas')"
      ],
      "execution_count": 0,
      "outputs": []
    },
    {
      "cell_type": "markdown",
      "metadata": {
        "colab_type": "text",
        "id": "KdHHDyW0q5Fb"
      },
      "source": [
        "**O quantitativo de registros cai consideravalmente quando filtrado para os acidentes que envolveram vítimas**"
      ]
    },
    {
      "cell_type": "code",
      "metadata": {
        "id": "K2i84FSXfSKI",
        "colab_type": "code",
        "colab": {}
      },
      "source": [
        "#média de envolvidos nos acientes por número de vítimas, sendo entitulado como \"grau do acidente\"\n",
        "chamadosCTTU7['grau_acidente'] = chamadosCTTU7['sum_envolvidos'] / chamadosCTTU7['vitimas']\n",
        "chamadosCTTU7['grau_acidente'].describe()"
      ],
      "execution_count": 0,
      "outputs": []
    },
    {
      "cell_type": "code",
      "metadata": {
        "id": "5jwVf87bh1xX",
        "colab_type": "code",
        "colab": {}
      },
      "source": [
        "chamadosCTTU7['grau_acidente'].plot.box()"
      ],
      "execution_count": 0,
      "outputs": []
    },
    {
      "cell_type": "code",
      "metadata": {
        "id": "uH8QOe3Zh9ee",
        "colab_type": "code",
        "colab": {}
      },
      "source": [
        "chamadosCTTU7['grau_acidente'].hist()"
      ],
      "execution_count": 0,
      "outputs": []
    },
    {
      "cell_type": "code",
      "metadata": {
        "id": "nNC6Ub61iHeC",
        "colab_type": "code",
        "colab": {}
      },
      "source": [
        "from numpy import log10\n",
        "chamadosCTTU7['grau_acidente_log'] = log10(chamadosCTTU7['grau_acidente'])\n",
        "chamadosCTTU7['grau_acidente_log'].describe()"
      ],
      "execution_count": 0,
      "outputs": []
    },
    {
      "cell_type": "code",
      "metadata": {
        "id": "vn6RNkNzi376",
        "colab_type": "code",
        "colab": {}
      },
      "source": [
        "(abs(chamadosCTTU7['grau_acidente_log']-chamadosCTTU7['grau_acidente_log'].median())/chamadosCTTU7['grau_acidente_log'].mad()).hist()"
      ],
      "execution_count": 0,
      "outputs": []
    },
    {
      "cell_type": "code",
      "metadata": {
        "id": "0PdHzjDNxhm_",
        "colab_type": "code",
        "colab": {}
      },
      "source": [
        "chamadosCTTU7[abs(chamadosCTTU7['grau_acidente_log']-chamadosCTTU7['grau_acidente_log'].median())/chamadosCTTU7['grau_acidente_log'].mad() > 3.5]\n",
        "len(chamadosCTTU7)"
      ],
      "execution_count": 0,
      "outputs": []
    },
    {
      "cell_type": "code",
      "metadata": {
        "id": "s4xPraKEx-K_",
        "colab_type": "code",
        "colab": {}
      },
      "source": [
        "chamadosCTTU7 = chamadosCTTU7[abs(chamadosCTTU7['grau_acidente_log']-chamadosCTTU7['grau_acidente_log'].median())/chamadosCTTU7['grau_acidente_log'].mad() < 3.5]\n",
        "len(chamadosCTTU7)"
      ],
      "execution_count": 0,
      "outputs": []
    },
    {
      "cell_type": "code",
      "metadata": {
        "id": "dqdTAxboyY5G",
        "colab_type": "code",
        "colab": {}
      },
      "source": [
        "chamadosCTTU7['grau_acidente_log'].hist()"
      ],
      "execution_count": 0,
      "outputs": []
    },
    {
      "cell_type": "markdown",
      "metadata": {
        "id": "5IFWH99X2gkw",
        "colab_type": "text"
      },
      "source": [
        "# **3. Apresentar estatísticas descritivas dos dados com visualizações**"
      ]
    },
    {
      "cell_type": "code",
      "metadata": {
        "id": "Hm7Rv2tO2qhu",
        "colab_type": "code",
        "colab": {}
      },
      "source": [
        "#Utilizaremos a tabela chamadosCTTU3 para as análises abaixo"
      ],
      "execution_count": 0,
      "outputs": []
    },
    {
      "cell_type": "code",
      "metadata": {
        "id": "CyEH3lA53v-i",
        "colab_type": "code",
        "colab": {}
      },
      "source": [
        "chamadosCTTU3.shape"
      ],
      "execution_count": 0,
      "outputs": []
    },
    {
      "cell_type": "code",
      "metadata": {
        "id": "6tI5E4c55f8q",
        "colab_type": "code",
        "colab": {}
      },
      "source": [
        "#retirando os chamados cancelados\n",
        "chamadosCTTU3 = chamadosCTTU3[chamadosCTTU3['situacao'] != 'CANCELADA']"
      ],
      "execution_count": 0,
      "outputs": []
    },
    {
      "cell_type": "code",
      "metadata": {
        "id": "wt3BhaCp97xe",
        "colab_type": "code",
        "colab": {}
      },
      "source": [
        "#retirando os chamados sem individuos ou automóveis envolvidos\n",
        "chamadosCTTU3 = chamadosCTTU3[chamadosCTTU3['sum_envolvidos'] > 0]"
      ],
      "execution_count": 0,
      "outputs": []
    },
    {
      "cell_type": "code",
      "metadata": {
        "id": "riVzI2I35sC4",
        "colab_type": "code",
        "colab": {}
      },
      "source": [
        "print(chamadosCTTU3.shape)\n",
        "chamadosCTTU3.head()"
      ],
      "execution_count": 0,
      "outputs": []
    },
    {
      "cell_type": "code",
      "metadata": {
        "id": "44AD1FJv4KsW",
        "colab_type": "code",
        "colab": {
          "base_uri": "https://localhost:8080/",
          "height": 119
        },
        "outputId": "849bbd53-0690-413a-b951-d0f6b4da3718"
      },
      "source": [
        "#média de envolvidos (autos, motos, caminhões, etc) por acidente\n",
        "print(chamadosCTTU3.sum_envolvidos.mean())\n",
        "#mediana de envolvidos (autos, motos, caminhões, etc) por acidente\n",
        "print(chamadosCTTU3.sum_envolvidos.median())\n",
        "#moda de envolvidos (autos, motos, caminhões, etc) por acidente\n",
        "print(chamadosCTTU3.sum_envolvidos.mode())\n",
        "#variância de envolvidos (autos, motos, caminhões, etc) por acidente\n",
        "print(chamadosCTTU3.sum_envolvidos.var())\n",
        "#desvio padrão de envolvidos (autos, motos, caminhões, etc) por acidente\n",
        "print(chamadosCTTU3.sum_envolvidos.std())"
      ],
      "execution_count": 40,
      "outputs": [
        {
          "output_type": "stream",
          "text": [
            "0.9027264325323475\n",
            "0.0\n",
            "0    0.0\n",
            "dtype: float64\n",
            "2.137041670270831\n",
            "1.4618623978578937\n"
          ],
          "name": "stdout"
        }
      ]
    },
    {
      "cell_type": "code",
      "metadata": {
        "id": "_SRdA5di8-Ep",
        "colab_type": "code",
        "colab": {}
      },
      "source": [
        "chamadosCTTU3.sum_envolvidos.describe()"
      ],
      "execution_count": 0,
      "outputs": []
    },
    {
      "cell_type": "code",
      "metadata": {
        "id": "bl9Rw4FL-kJv",
        "colab_type": "code",
        "colab": {
          "base_uri": "https://localhost:8080/",
          "height": 34
        },
        "outputId": "fadf039e-3691-405b-ae0a-f1c6c2e325d7"
      },
      "source": [
        "#cálculo IQR da soma dos envolvidos por acidentes\n",
        "chamadosCTTU3.sum_envolvidos.describe()[6] - chamadosCTTU3.sum_envolvidos.describe()[4]"
      ],
      "execution_count": 41,
      "outputs": [
        {
          "output_type": "execute_result",
          "data": {
            "text/plain": [
              "2.0"
            ]
          },
          "metadata": {
            "tags": []
          },
          "execution_count": 41
        }
      ]
    },
    {
      "cell_type": "code",
      "metadata": {
        "id": "0fHmptVE_vi5",
        "colab_type": "code",
        "colab": {}
      },
      "source": [
        "chamadosCTTU3.boxplot(column=['vitimas'])"
      ],
      "execution_count": 0,
      "outputs": []
    },
    {
      "cell_type": "code",
      "metadata": {
        "id": "wE_Mt2xd_GAP",
        "colab_type": "code",
        "colab": {}
      },
      "source": [
        "#cálculo de vítimas por envolvidos por acidentes\n",
        "chamadosCTTU3['vitimas_por_envolvidos_acidente'] = chamadosCTTU3['vitimas']/chamadosCTTU3['sum_envolvidos']"
      ],
      "execution_count": 0,
      "outputs": []
    },
    {
      "cell_type": "code",
      "metadata": {
        "id": "aAhW1yb2AEfl",
        "colab_type": "code",
        "colab": {
          "base_uri": "https://localhost:8080/",
          "height": 34
        },
        "outputId": "74cfc6a6-607c-4c79-e6b8-b42ae20dc33c"
      },
      "source": [
        "#cálculo de média de vítimas por envolvidos em acidentes em Boa Viagem\n",
        "chamadosCTTU3[(chamadosCTTU3.vitimas > 0) & (chamadosCTTU3.sum_envolvidos > 0) & (chamadosCTTU3.bairro == 'BOA VIAGEM')].vitimas_por_envolvidos_acidente.mean()"
      ],
      "execution_count": 44,
      "outputs": [
        {
          "output_type": "execute_result",
          "data": {
            "text/plain": [
              "0.6346405228758168"
            ]
          },
          "metadata": {
            "tags": []
          },
          "execution_count": 44
        }
      ]
    },
    {
      "cell_type": "code",
      "metadata": {
        "id": "W_esz1yVA43B",
        "colab_type": "code",
        "colab": {}
      },
      "source": [
        "#cálculo da média e mediana de vítimas por envolvidos em acidentes por bairro para chamados FINALIZADOS\n",
        "chamadosCTTU3[chamadosCTTU3['situacao'] == 'FINALIZADA'].groupby(['bairro']).agg(['mean','median'])['vitimas_por_envolvidos_acidente']"
      ],
      "execution_count": 0,
      "outputs": []
    },
    {
      "cell_type": "code",
      "metadata": {
        "id": "vu-n_Bu-DcWN",
        "colab_type": "code",
        "colab": {}
      },
      "source": [
        "# Medias do valor de vítimas por envolvidos em acidentes por bairro para chamados FINALIZADOS\n",
        "chamadosCTTU3[chamadosCTTU3['situacao'] == 'FINALIZADA'].groupby(['bairro'])['vitimas_por_envolvidos_acidente'].mean().sort_values(ascending=False).plot.bar(figsize=(20,10))"
      ],
      "execution_count": 0,
      "outputs": []
    },
    {
      "cell_type": "code",
      "metadata": {
        "id": "hjRlCXpyQwHm",
        "colab_type": "code",
        "colab": {}
      },
      "source": [
        "#Estatísticas bivariadas\n",
        "#Os maiores envolvidos em acidentes são automóveis e motos\n",
        "chamadosCTTU3[chamadosCTTU3['situacao'] == 'FINALIZADA'].cov()"
      ],
      "execution_count": 0,
      "outputs": []
    },
    {
      "cell_type": "code",
      "metadata": {
        "id": "W1zy-CYJRRP3",
        "colab_type": "code",
        "colab": {}
      },
      "source": [
        "#Estatísticas bivariadas\n",
        "#Moto é o meio de transporte que mais resulta em vítimas em acidentes\n",
        "chamadosCTTU3[chamadosCTTU3['situacao'] == 'FINALIZADA'].corr(method='pearson')"
      ],
      "execution_count": 0,
      "outputs": []
    },
    {
      "cell_type": "code",
      "metadata": {
        "id": "6M6uNEJ9RdtK",
        "colab_type": "code",
        "colab": {}
      },
      "source": [
        "#Estatísticas bivariadas\n",
        "#Moto é o meio de transporte que mais resulta em vítimas em acidentes\n",
        "chamadosCTTU3[chamadosCTTU3['situacao'] == 'FINALIZADA'].corr(method='spearman')"
      ],
      "execution_count": 0,
      "outputs": []
    },
    {
      "cell_type": "code",
      "metadata": {
        "id": "jEKl5H8iRlrf",
        "colab_type": "code",
        "colab": {}
      },
      "source": [
        "#Estatísticas bivariadas\n",
        "chamadosCTTU3.plot.scatter(x='moto',y='vitimas')"
      ],
      "execution_count": 0,
      "outputs": []
    },
    {
      "cell_type": "code",
      "metadata": {
        "id": "nc_fdTY7R-Ga",
        "colab_type": "code",
        "colab": {
          "base_uri": "https://localhost:8080/",
          "height": 297
        },
        "outputId": "976dbe5f-60b8-4833-d372-d28159b3d9e6"
      },
      "source": [
        "#Estatísticas bivariadas\n",
        "chamadosCTTU3.plot.scatter(x='sum_envolvidos',y='vitimas')"
      ],
      "execution_count": 59,
      "outputs": [
        {
          "output_type": "execute_result",
          "data": {
            "text/plain": [
              "<matplotlib.axes._subplots.AxesSubplot at 0x7feb83dbab70>"
            ]
          },
          "metadata": {
            "tags": []
          },
          "execution_count": 59
        },
        {
          "output_type": "display_data",
          "data": {
            "image/png": "[encoded data removed]",
            "text/plain": [
              "<Figure size 432x288 with 1 Axes>"
            ]
          },
          "metadata": {
            "tags": []
          }
        }
      ]
    }
  ]
}